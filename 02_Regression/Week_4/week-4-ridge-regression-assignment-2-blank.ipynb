{
 "cells": [
  {
   "cell_type": "markdown",
   "metadata": {},
   "source": [
    "# Regression Week 4: Ridge Regression (gradient descent)"
   ]
  },
  {
   "cell_type": "markdown",
   "metadata": {},
   "source": [
    "In this notebook, you will implement ridge regression via gradient descent. You will:\n",
    "* Convert an SFrame into a Numpy array\n",
    "* Write a Numpy function to compute the derivative of the regression weights with respect to a single feature\n",
    "* Write gradient descent function to compute the regression weights given an initial weight vector, step size, tolerance, and L2 penalty"
   ]
  },
  {
   "cell_type": "markdown",
   "metadata": {},
   "source": [
    "# Fire up graphlab create"
   ]
  },
  {
   "cell_type": "markdown",
   "metadata": {},
   "source": [
    "Make sure you have the latest version of GraphLab Create (>= 1.7)"
   ]
  },
  {
   "cell_type": "code",
<<<<<<< HEAD
   "execution_count": null,
=======
   "execution_count": 1,
>>>>>>> 6225c47f5d62b41f3375d66ad3dfe6c33bbd4a03
   "metadata": {
    "collapsed": false
   },
   "outputs": [],
   "source": [
    "import graphlab"
   ]
  },
  {
   "cell_type": "markdown",
   "metadata": {},
   "source": [
    "# Load in house sales data\n",
    "\n",
    "Dataset is from house sales in King County, the region where the city of Seattle, WA is located."
   ]
  },
  {
   "cell_type": "code",
<<<<<<< HEAD
   "execution_count": null,
   "metadata": {
    "collapsed": false
   },
   "outputs": [],
=======
   "execution_count": 2,
   "metadata": {
    "collapsed": false
   },
   "outputs": [
    {
     "name": "stderr",
     "output_type": "stream",
     "text": [
      "[INFO] \u001b[1;32m1451275285 : INFO:     (initialize_globals_from_environment:282): Setting configuration variable GRAPHLAB_FILEIO_ALTERNATIVE_SSL_CERT_FILE to /usr/local/lib/python2.7/site-packages/certifi/cacert.pem\n",
      "\u001b[0m\u001b[1;32m1451275285 : INFO:     (initialize_globals_from_environment:282): Setting configuration variable GRAPHLAB_FILEIO_ALTERNATIVE_SSL_CERT_DIR to \n",
      "\u001b[0mThis non-commercial license of GraphLab Create is assigned to satoshi.nagayasu@gmail.com and will expire on November 14, 2016. For commercial licensing options, visit https://dato.com/buy/.\n",
      "\n",
      "[INFO] Start server at: ipc:///tmp/graphlab_server-2377 - Server binary: /usr/local/lib/python2.7/site-packages/graphlab/unity_server - Server log: /tmp/graphlab_server_1451275285.log\n",
      "[INFO] GraphLab Server Version: 1.7.1\n"
     ]
    }
   ],
>>>>>>> 6225c47f5d62b41f3375d66ad3dfe6c33bbd4a03
   "source": [
    "sales = graphlab.SFrame('kc_house_data.gl/')"
   ]
  },
  {
   "cell_type": "markdown",
   "metadata": {},
   "source": [
    "If we want to do any \"feature engineering\" like creating new features or adjusting existing ones we should do this directly using the SFrames as seen in the first notebook of Week 2. For this notebook, however, we will work with the existing features."
   ]
  },
  {
   "cell_type": "markdown",
   "metadata": {},
   "source": [
    "# Import useful functions from previous notebook"
   ]
  },
  {
   "cell_type": "markdown",
   "metadata": {},
   "source": [
    "As in Week 2, we convert the SFrame into a 2D Numpy array. Copy and paste `get_num_data()` from the second notebook of Week 2."
   ]
  },
  {
   "cell_type": "code",
<<<<<<< HEAD
   "execution_count": null,
=======
   "execution_count": 3,
>>>>>>> 6225c47f5d62b41f3375d66ad3dfe6c33bbd4a03
   "metadata": {
    "collapsed": true
   },
   "outputs": [],
   "source": [
    "import numpy as np # note this allows us to refer to numpy as np instead "
   ]
  },
  {
   "cell_type": "code",
<<<<<<< HEAD
   "execution_count": null,
=======
   "execution_count": 4,
>>>>>>> 6225c47f5d62b41f3375d66ad3dfe6c33bbd4a03
   "metadata": {
    "collapsed": true
   },
   "outputs": [],
<<<<<<< HEAD
   "source": []
=======
   "source": [
    "def get_numpy_data(data_sframe, features, output):\n",
    "    print(data_sframe.head())\n",
    "    data_sframe['constant'] = 1 # this is how you add a constant column to an SFrame\n",
    "\n",
    "    # add the column 'constant' to the front of the features list so that we can extract it along with the others:\n",
    "    features = ['constant'] + features # this is how you combine two lists\n",
    "\n",
    "    # select the columns of data_SFrame given by the features list into the SFrame features_sframe (now including constant):\n",
    "    features_sframe = data_sframe[features]\n",
    "\n",
    "    # the following line will convert the features_SFrame into a numpy matrix:\n",
    "    feature_matrix = features_sframe.to_numpy()\n",
    "\n",
    "    # assign the column of data_sframe associated with the output to the SArray output_sarray\n",
    "    output_sarray = data_sframe[output]\n",
    "\n",
    "    # the following will convert the SArray into a numpy array by first converting it to a list\n",
    "    output_array = output_sarray.to_numpy()\n",
    "    return(feature_matrix, output_array)\n"
   ]
>>>>>>> 6225c47f5d62b41f3375d66ad3dfe6c33bbd4a03
  },
  {
   "cell_type": "markdown",
   "metadata": {},
   "source": [
    "Also, copy and paste the `predict_output()` function to compute the predictions for an entire matrix of features given the matrix and the weights:"
   ]
  },
  {
   "cell_type": "code",
<<<<<<< HEAD
   "execution_count": null,
=======
   "execution_count": 5,
>>>>>>> 6225c47f5d62b41f3375d66ad3dfe6c33bbd4a03
   "metadata": {
    "collapsed": true
   },
   "outputs": [],
<<<<<<< HEAD
   "source": []
=======
   "source": [
    "def predict_output(feature_matrix, weights):\n",
    "    predictions = None\n",
    "    # assume feature_matrix is a numpy matrix containing the features as columns and weights is a corresponding numpy array\n",
    "    # create the predictions vector by using np.dot()\n",
    "    predictions = np.dot(feature_matrix, weights)\n",
    "    return(predictions)\n"
   ]
>>>>>>> 6225c47f5d62b41f3375d66ad3dfe6c33bbd4a03
  },
  {
   "cell_type": "markdown",
   "metadata": {},
   "source": [
    "# Computing the Derivative"
   ]
  },
  {
   "cell_type": "markdown",
   "metadata": {},
   "source": [
    "We are now going to move to computing the derivative of the regression cost function. Recall that the cost function is the sum over the data points of the squared difference between an observed output and a predicted output, plus the L2 penalty term.\n",
    "```\n",
    "Cost(w)\n",
    "= SUM[ (prediction - output)^2 ]\n",
    "+ l2_penalty*(w[0]^2 + w[1]^2 + ... + w[k]^2).\n",
    "```\n",
    "\n",
    "Since the derivative of a sum is the sum of the derivatives, we can take the derivative of the first part (the RSS) as we did in the notebook for the unregularized case in Week 2 and add the derivative of the regularization part.  As we saw, the derivative of the RSS with respect to `w[i]` can be written as: \n",
    "```\n",
    "2*SUM[ error*[feature_i] ].\n",
    "```\n",
    "The derivative of the regularization term with respect to `w[i]` is:\n",
    "```\n",
    "2*l2_penalty*w[i].\n",
    "```\n",
    "Summing both, we get\n",
    "```\n",
    "2*SUM[ error*[feature_i] ] + 2*l2_penalty*w[i].\n",
    "```\n",
    "That is, the derivative for the weight for feature i is the sum (over data points) of 2 times the product of the error and the feature itself, plus `2*l2_penalty*w[i]`. \n",
    "\n",
    "**We will not regularize the constant.**  Thus, in the case of the constant, the derivative is just twice the sum of the errors (without the `2*l2_penalty*w[0]` term).\n",
    "\n",
    "Recall that twice the sum of the product of two vectors is just twice the dot product of the two vectors. Therefore the derivative for the weight for feature_i is just two times the dot product between the values of feature_i and the current errors, plus `2*l2_penalty*w[i]`.\n",
    "\n",
    "With this in mind complete the following derivative function which computes the derivative of the weight given the value of the feature (over all data points) and the errors (over all data points).  To decide when to we are dealing with the constant (so we don't regularize it) we added the extra parameter to the call `feature_is_constant` which you should set to `True` when computing the derivative of the constant and `False` otherwise."
   ]
  },
  {
   "cell_type": "code",
<<<<<<< HEAD
   "execution_count": null,
=======
   "execution_count": 6,
>>>>>>> 6225c47f5d62b41f3375d66ad3dfe6c33bbd4a03
   "metadata": {
    "collapsed": true
   },
   "outputs": [],
   "source": [
<<<<<<< HEAD
    "def feature_derivative_ridge(errors, feature, weight, l2_penalty, feature_is_constant):\n",
    "    # If feature_is_constant is True, derivative is twice the dot product of errors and feature\n",
    "    \n",
    "    # Otherwise, derivative is twice the dot product plus 2*l2_penalty*weight\n",
    "    \n",
    "    return derivative"
=======
    "def feature_derivative_ridge(errors, feature, weight, l2_penalty, feature_is_constant, verbose=False):\n",
    "    derivative = None\n",
    "\n",
    "    if verbose is True:\n",
    "        print(\"errors: %s [%d]\" % (str(errors), len(errors)))\n",
    "        print(\"feature: %s [%d]\" % (str(feature), len(feature)))\n",
    "        print(\"weight: %s\" % str(weight))\n",
    "        print(\"l2_penalty = %f\" % l2_penalty)\n",
    "\n",
    "    # If feature_is_constant is True, derivative is twice the dot product of errors and feature\n",
    "    if feature_is_constant is True:\n",
    "        dot_errors_and_feature = errors * feature\n",
    "        if verbose is True:\n",
    "            print(\"dot_errors_and_feature: %s [%d]\" % (str(dot_errors_and_feature), len(dot_errors_and_feature)))\n",
    "        derivative = 2*dot_errors_and_feature.sum()\n",
    "\n",
    "    # Otherwise, derivative is twice the dot product plus 2*l2_penalty*weight\n",
    "    else:\n",
    "        dot_errors_and_feature = errors * feature\n",
    "        if verbose is True:\n",
    "            print(\"dot_errors_and_feature: %s [%d]\" % (str(dot_errors_and_feature), len(dot_errors_and_feature)))\n",
    "        derivative = 2*dot_errors_and_feature.sum() + 2*l2_penalty*weight\n",
    "\n",
    "    return derivative\n"
>>>>>>> 6225c47f5d62b41f3375d66ad3dfe6c33bbd4a03
   ]
  },
  {
   "cell_type": "markdown",
   "metadata": {},
   "source": [
    "To test your feature derivartive run the following:"
   ]
  },
  {
   "cell_type": "code",
<<<<<<< HEAD
   "execution_count": null,
   "metadata": {
    "collapsed": false
   },
   "outputs": [],
=======
   "execution_count": 7,
   "metadata": {
    "collapsed": false
   },
   "outputs": [
    {
     "name": "stdout",
     "output_type": "stream",
     "text": [
      "+------------+---------------------------+-----------+----------+-----------+\n",
      "|     id     |            date           |   price   | bedrooms | bathrooms |\n",
      "+------------+---------------------------+-----------+----------+-----------+\n",
      "| 7129300520 | 2014-10-13 00:00:00+00:00 |  221900.0 |   3.0    |    1.0    |\n",
      "| 6414100192 | 2014-12-09 00:00:00+00:00 |  538000.0 |   3.0    |    2.25   |\n",
      "| 5631500400 | 2015-02-25 00:00:00+00:00 |  180000.0 |   2.0    |    1.0    |\n",
      "| 2487200875 | 2014-12-09 00:00:00+00:00 |  604000.0 |   4.0    |    3.0    |\n",
      "| 1954400510 | 2015-02-18 00:00:00+00:00 |  510000.0 |   3.0    |    2.0    |\n",
      "| 7237550310 | 2014-05-12 00:00:00+00:00 | 1225000.0 |   4.0    |    4.5    |\n",
      "| 1321400060 | 2014-06-27 00:00:00+00:00 |  257500.0 |   3.0    |    2.25   |\n",
      "| 2008000270 | 2015-01-15 00:00:00+00:00 |  291850.0 |   3.0    |    1.5    |\n",
      "| 2414600126 | 2015-04-15 00:00:00+00:00 |  229500.0 |   3.0    |    1.0    |\n",
      "| 3793500160 | 2015-03-12 00:00:00+00:00 |  323000.0 |   3.0    |    2.5    |\n",
      "+------------+---------------------------+-----------+----------+-----------+\n",
      "+-------------+----------+--------+------------+------+-----------+-------+------------+\n",
      "| sqft_living | sqft_lot | floors | waterfront | view | condition | grade | sqft_above |\n",
      "+-------------+----------+--------+------------+------+-----------+-------+------------+\n",
      "|    1180.0   |   5650   |   1    |     0      |  0   |     3     |   7   |    1180    |\n",
      "|    2570.0   |   7242   |   2    |     0      |  0   |     3     |   7   |    2170    |\n",
      "|    770.0    |  10000   |   1    |     0      |  0   |     3     |   6   |    770     |\n",
      "|    1960.0   |   5000   |   1    |     0      |  0   |     5     |   7   |    1050    |\n",
      "|    1680.0   |   8080   |   1    |     0      |  0   |     3     |   8   |    1680    |\n",
      "|    5420.0   |  101930  |   1    |     0      |  0   |     3     |   11  |    3890    |\n",
      "|    1715.0   |   6819   |   2    |     0      |  0   |     3     |   7   |    1715    |\n",
      "|    1060.0   |   9711   |   1    |     0      |  0   |     3     |   7   |    1060    |\n",
      "|    1780.0   |   7470   |   1    |     0      |  0   |     3     |   7   |    1050    |\n",
      "|    1890.0   |   6560   |   2    |     0      |  0   |     3     |   7   |    1890    |\n",
      "+-------------+----------+--------+------------+------+-----------+-------+------------+\n",
      "+---------------+----------+--------------+---------+-------------+\n",
      "| sqft_basement | yr_built | yr_renovated | zipcode |     lat     |\n",
      "+---------------+----------+--------------+---------+-------------+\n",
      "|       0       |   1955   |      0       |  98178  | 47.51123398 |\n",
      "|      400      |   1951   |     1991     |  98125  | 47.72102274 |\n",
      "|       0       |   1933   |      0       |  98028  | 47.73792661 |\n",
      "|      910      |   1965   |      0       |  98136  |   47.52082  |\n",
      "|       0       |   1987   |      0       |  98074  | 47.61681228 |\n",
      "|      1530     |   2001   |      0       |  98053  | 47.65611835 |\n",
      "|       0       |   1995   |      0       |  98003  | 47.30972002 |\n",
      "|       0       |   1963   |      0       |  98198  | 47.40949984 |\n",
      "|      730      |   1960   |      0       |  98146  | 47.51229381 |\n",
      "|       0       |   2003   |      0       |  98038  | 47.36840673 |\n",
      "+---------------+----------+--------------+---------+-------------+\n",
      "+---------------+---------------+-----+\n",
      "|      long     | sqft_living15 | ... |\n",
      "+---------------+---------------+-----+\n",
      "| -122.25677536 |     1340.0    | ... |\n",
      "|  -122.3188624 |     1690.0    | ... |\n",
      "| -122.23319601 |     2720.0    | ... |\n",
      "| -122.39318505 |     1360.0    | ... |\n",
      "| -122.04490059 |     1800.0    | ... |\n",
      "| -122.00528655 |     4760.0    | ... |\n",
      "| -122.32704857 |     2238.0    | ... |\n",
      "| -122.31457273 |     1650.0    | ... |\n",
      "| -122.33659507 |     1780.0    | ... |\n",
      "|  -122.0308176 |     2390.0    | ... |\n",
      "+---------------+---------------+-----+\n",
      "[10 rows x 21 columns]\n",
      "\n",
      "-5.65541667824e+13\n",
      "-5.65541667824e+13\n",
      "\n",
      "-22446749336.0\n",
      "-22446749336.0\n"
     ]
    }
   ],
>>>>>>> 6225c47f5d62b41f3375d66ad3dfe6c33bbd4a03
   "source": [
    "(example_features, example_output) = get_numpy_data(sales, ['sqft_living'], 'price') \n",
    "my_weights = np.array([1., 10.])\n",
    "test_predictions = predict_output(example_features, my_weights) \n",
    "errors = test_predictions - example_output # prediction errors\n",
    "\n",
    "# next two lines should print the same values\n",
    "print feature_derivative_ridge(errors, example_features[:,1], my_weights[1], 1, False)\n",
    "print np.sum(errors*example_features[:,1])*2+20.\n",
    "print ''\n",
    "\n",
    "# next two lines should print the same values\n",
    "print feature_derivative_ridge(errors, example_features[:,0], my_weights[0], 1, True)\n",
    "print np.sum(errors)*2."
   ]
  },
  {
   "cell_type": "markdown",
   "metadata": {},
   "source": [
    "# Gradient Descent"
   ]
  },
  {
   "cell_type": "markdown",
   "metadata": {},
   "source": [
    "Now we will write a function that performs a gradient descent. The basic premise is simple. Given a starting point we update the current weights by moving in the negative gradient direction. Recall that the gradient is the direction of *increase* and therefore the negative gradient is the direction of *decrease* and we're trying to *minimize* a cost function. \n",
    "\n",
    "The amount by which we move in the negative gradient *direction*  is called the 'step size'. We stop when we are 'sufficiently close' to the optimum. Unlike in Week 2, this time we will set a **maximum number of iterations** and take gradient steps until we reach this maximum number. If no maximum number is supplied, the maximum should be set 100 by default. (Use default parameter values in Python.)\n",
    "\n",
    "With this in mind, complete the following gradient descent function below using your derivative function above. For each step in the gradient descent, we update the weight for each feature before computing our stopping criteria."
   ]
  },
  {
   "cell_type": "code",
<<<<<<< HEAD
   "execution_count": null,
=======
   "execution_count": 16,
>>>>>>> 6225c47f5d62b41f3375d66ad3dfe6c33bbd4a03
   "metadata": {
    "collapsed": false
   },
   "outputs": [],
   "source": [
<<<<<<< HEAD
    "def ridge_regression_gradient_descent(feature_matrix, output, initial_weights, step_size, l2_penalty, max_iterations=100):\n",
    "    weights = np.array(initial_weights) # make sure it's a numpy array\n",
    "    \n",
    "    #while not reached maximum number of iterations:\n",
    "        # compute the predictions based on feature_matrix and weights using your predict_output() function\n",
    "\n",
    "        # compute the errors as predictions - output\n",
=======
    "def ridge_regression_gradient_descent(feature_matrix, output, initial_weights, step_size, l2_penalty, max_iterations=100, verbose=False):\n",
    "    weights = np.array(initial_weights) # make sure it's a numpy array\n",
    "\n",
    "    if verbose is True:\n",
    "        print(\"initial weights: %s\" % str(weights))\n",
    "\n",
    "    #while not reached maximum number of iterations:\n",
    "    for iter in range(0, max_iterations):\n",
    "        # compute the predictions based on feature_matrix and weights using your predict_output() function\n",
    "        test_predictions = predict_output(feature_matrix, weights)\n",
    "        # compute the errors as predictions - output\n",
    "        errors = test_predictions - output\n",
>>>>>>> 6225c47f5d62b41f3375d66ad3dfe6c33bbd4a03
    "\n",
    "        for i in xrange(len(weights)): # loop over each weight\n",
    "            # Recall that feature_matrix[:,i] is the feature column associated with weights[i]\n",
    "            # compute the derivative for weight[i].\n",
    "            #(Remember: when i=0, you are computing the derivative of the constant!)\n",
<<<<<<< HEAD
    "\n",
    "            # subtract the step size times the derivative from the current weight\n",
    "            \n",
    "    return weights"
=======
    "            if i == 0:\n",
    "                is_constant = True\n",
    "            else:\n",
    "                is_constant = False\n",
    "            derivative = feature_derivative_ridge(errors, feature_matrix[:,i], weights[i], l2_penalty, is_constant)\n",
    "\n",
    "            # subtract the step size times the derivative from the current weight\n",
    "            weights = weights - derivative * step_size\n",
    "\n",
    "        if verbose is True:\n",
    "            print(\"iteration = %d, derivative = %f, weights = %s\" % (iter, derivative, str(weights)))\n",
    "\n",
    "    return weights\n"
>>>>>>> 6225c47f5d62b41f3375d66ad3dfe6c33bbd4a03
   ]
  },
  {
   "cell_type": "markdown",
   "metadata": {},
   "source": [
    "# Visualizing effect of L2 penalty"
   ]
  },
  {
   "cell_type": "markdown",
   "metadata": {},
   "source": [
    "The L2 penalty gets its name because it causes weights to have small L2 norms than otherwise. Let's see how large weights get penalized. Let us consider a simple model with 1 feature:"
   ]
  },
  {
   "cell_type": "code",
<<<<<<< HEAD
   "execution_count": null,
=======
   "execution_count": 9,
>>>>>>> 6225c47f5d62b41f3375d66ad3dfe6c33bbd4a03
   "metadata": {
    "collapsed": true
   },
   "outputs": [],
   "source": [
    "simple_features = ['sqft_living']\n",
    "my_output = 'price'"
   ]
  },
  {
   "cell_type": "markdown",
   "metadata": {},
   "source": [
    "Let us split the dataset into training set and test set. Make sure to use `seed=0`:"
   ]
  },
  {
   "cell_type": "code",
<<<<<<< HEAD
   "execution_count": null,
=======
   "execution_count": 10,
>>>>>>> 6225c47f5d62b41f3375d66ad3dfe6c33bbd4a03
   "metadata": {
    "collapsed": true
   },
   "outputs": [],
   "source": [
    "train_data,test_data = sales.random_split(.8,seed=0)"
   ]
  },
  {
   "cell_type": "markdown",
   "metadata": {},
   "source": [
    "In this part, we will only use `'sqft_living'` to predict `'price'`. Use the `get_numpy_data` function to get a Numpy versions of your data with only this feature, for both the `train_data` and the `test_data`. "
   ]
  },
  {
   "cell_type": "code",
<<<<<<< HEAD
   "execution_count": null,
   "metadata": {
    "collapsed": true
   },
   "outputs": [],
=======
   "execution_count": 11,
   "metadata": {
    "collapsed": false
   },
   "outputs": [
    {
     "name": "stdout",
     "output_type": "stream",
     "text": [
      "+------------+---------------------------+-----------+----------+-----------+\n",
      "|     id     |            date           |   price   | bedrooms | bathrooms |\n",
      "+------------+---------------------------+-----------+----------+-----------+\n",
      "| 7129300520 | 2014-10-13 00:00:00+00:00 |  221900.0 |   3.0    |    1.0    |\n",
      "| 6414100192 | 2014-12-09 00:00:00+00:00 |  538000.0 |   3.0    |    2.25   |\n",
      "| 5631500400 | 2015-02-25 00:00:00+00:00 |  180000.0 |   2.0    |    1.0    |\n",
      "| 2487200875 | 2014-12-09 00:00:00+00:00 |  604000.0 |   4.0    |    3.0    |\n",
      "| 1954400510 | 2015-02-18 00:00:00+00:00 |  510000.0 |   3.0    |    2.0    |\n",
      "| 7237550310 | 2014-05-12 00:00:00+00:00 | 1225000.0 |   4.0    |    4.5    |\n",
      "| 1321400060 | 2014-06-27 00:00:00+00:00 |  257500.0 |   3.0    |    2.25   |\n",
      "| 2008000270 | 2015-01-15 00:00:00+00:00 |  291850.0 |   3.0    |    1.5    |\n",
      "| 2414600126 | 2015-04-15 00:00:00+00:00 |  229500.0 |   3.0    |    1.0    |\n",
      "| 3793500160 | 2015-03-12 00:00:00+00:00 |  323000.0 |   3.0    |    2.5    |\n",
      "+------------+---------------------------+-----------+----------+-----------+\n",
      "+-------------+----------+--------+------------+------+-----------+-------+------------+\n",
      "| sqft_living | sqft_lot | floors | waterfront | view | condition | grade | sqft_above |\n",
      "+-------------+----------+--------+------------+------+-----------+-------+------------+\n",
      "|    1180.0   |   5650   |   1    |     0      |  0   |     3     |   7   |    1180    |\n",
      "|    2570.0   |   7242   |   2    |     0      |  0   |     3     |   7   |    2170    |\n",
      "|    770.0    |  10000   |   1    |     0      |  0   |     3     |   6   |    770     |\n",
      "|    1960.0   |   5000   |   1    |     0      |  0   |     5     |   7   |    1050    |\n",
      "|    1680.0   |   8080   |   1    |     0      |  0   |     3     |   8   |    1680    |\n",
      "|    5420.0   |  101930  |   1    |     0      |  0   |     3     |   11  |    3890    |\n",
      "|    1715.0   |   6819   |   2    |     0      |  0   |     3     |   7   |    1715    |\n",
      "|    1060.0   |   9711   |   1    |     0      |  0   |     3     |   7   |    1060    |\n",
      "|    1780.0   |   7470   |   1    |     0      |  0   |     3     |   7   |    1050    |\n",
      "|    1890.0   |   6560   |   2    |     0      |  0   |     3     |   7   |    1890    |\n",
      "+-------------+----------+--------+------------+------+-----------+-------+------------+\n",
      "+---------------+----------+--------------+---------+-------------+\n",
      "| sqft_basement | yr_built | yr_renovated | zipcode |     lat     |\n",
      "+---------------+----------+--------------+---------+-------------+\n",
      "|       0       |   1955   |      0       |  98178  | 47.51123398 |\n",
      "|      400      |   1951   |     1991     |  98125  | 47.72102274 |\n",
      "|       0       |   1933   |      0       |  98028  | 47.73792661 |\n",
      "|      910      |   1965   |      0       |  98136  |   47.52082  |\n",
      "|       0       |   1987   |      0       |  98074  | 47.61681228 |\n",
      "|      1530     |   2001   |      0       |  98053  | 47.65611835 |\n",
      "|       0       |   1995   |      0       |  98003  | 47.30972002 |\n",
      "|       0       |   1963   |      0       |  98198  | 47.40949984 |\n",
      "|      730      |   1960   |      0       |  98146  | 47.51229381 |\n",
      "|       0       |   2003   |      0       |  98038  | 47.36840673 |\n",
      "+---------------+----------+--------------+---------+-------------+\n",
      "+---------------+---------------+-----+\n",
      "|      long     | sqft_living15 | ... |\n",
      "+---------------+---------------+-----+\n",
      "| -122.25677536 |     1340.0    | ... |\n",
      "|  -122.3188624 |     1690.0    | ... |\n",
      "| -122.23319601 |     2720.0    | ... |\n",
      "| -122.39318505 |     1360.0    | ... |\n",
      "| -122.04490059 |     1800.0    | ... |\n",
      "| -122.00528655 |     4760.0    | ... |\n",
      "| -122.32704857 |     2238.0    | ... |\n",
      "| -122.31457273 |     1650.0    | ... |\n",
      "| -122.33659507 |     1780.0    | ... |\n",
      "|  -122.0308176 |     2390.0    | ... |\n",
      "+---------------+---------------+-----+\n",
      "[10 rows x 22 columns]\n",
      "\n",
      "+------------+---------------------------+----------+----------+-----------+\n",
      "|     id     |            date           |  price   | bedrooms | bathrooms |\n",
      "+------------+---------------------------+----------+----------+-----------+\n",
      "| 0114101516 | 2014-05-28 00:00:00+00:00 | 310000.0 |   3.0    |    1.0    |\n",
      "| 9297300055 | 2015-01-24 00:00:00+00:00 | 650000.0 |   4.0    |    3.0    |\n",
      "| 1202000200 | 2014-11-03 00:00:00+00:00 | 233000.0 |   3.0    |    2.0    |\n",
      "| 8562750320 | 2014-11-10 00:00:00+00:00 | 580500.0 |   3.0    |    2.5    |\n",
      "| 7589200193 | 2014-11-10 00:00:00+00:00 | 535000.0 |   3.0    |    1.0    |\n",
      "| 2078500320 | 2014-06-20 00:00:00+00:00 | 605000.0 |   4.0    |    2.5    |\n",
      "| 7766200013 | 2014-08-11 00:00:00+00:00 | 775000.0 |   4.0    |    2.25   |\n",
      "| 9478500640 | 2014-08-19 00:00:00+00:00 | 292500.0 |   4.0    |    2.5    |\n",
      "| 9558200045 | 2014-08-28 00:00:00+00:00 | 289000.0 |   3.0    |    1.75   |\n",
      "| 8820901275 | 2014-06-10 00:00:00+00:00 | 571000.0 |   4.0    |    2.0    |\n",
      "+------------+---------------------------+----------+----------+-----------+\n",
      "+-------------+----------+--------+------------+------+-----------+-------+------------+\n",
      "| sqft_living | sqft_lot | floors | waterfront | view | condition | grade | sqft_above |\n",
      "+-------------+----------+--------+------------+------+-----------+-------+------------+\n",
      "|    1430.0   |  19901   |  1.5   |     0      |  0   |     4     |   7   |    1430    |\n",
      "|    2950.0   |   5000   |   2    |     0      |  3   |     3     |   9   |    1980    |\n",
      "|    1710.0   |   4697   |  1.5   |     0      |  0   |     5     |   6   |    1710    |\n",
      "|    2320.0   |   3980   |   2    |     0      |  0   |     3     |   8   |    2320    |\n",
      "|    1090.0   |   3000   |  1.5   |     0      |  0   |     4     |   8   |    1090    |\n",
      "|    2620.0   |   7553   |   2    |     0      |  0   |     3     |   8   |    2620    |\n",
      "|    4220.0   |  24186   |   1    |     0      |  0   |     3     |   8   |    2600    |\n",
      "|    2250.0   |   4495   |   2    |     0      |  0   |     3     |   7   |    2250    |\n",
      "|    1260.0   |   8400   |   1    |     0      |  0   |     3     |   7   |    1260    |\n",
      "|    2750.0   |   7807   |  1.5   |     0      |  0   |     5     |   7   |    2250    |\n",
      "+-------------+----------+--------+------------+------+-----------+-------+------------+\n",
      "+---------------+----------+--------------+---------+-------------+\n",
      "| sqft_basement | yr_built | yr_renovated | zipcode |     lat     |\n",
      "+---------------+----------+--------------+---------+-------------+\n",
      "|       0       |   1927   |      0       |  98028  | 47.75584254 |\n",
      "|      970      |   1979   |      0       |  98126  | 47.57136955 |\n",
      "|       0       |   1941   |      0       |  98002  | 47.30482931 |\n",
      "|       0       |   2003   |      0       |  98027  |  47.5391103 |\n",
      "|       0       |   1929   |      0       |  98117  | 47.68889559 |\n",
      "|       0       |   1996   |      0       |  98056  | 47.53013988 |\n",
      "|      1620     |   1984   |      0       |  98166  | 47.44504345 |\n",
      "|       0       |   2008   |      0       |  98042  | 47.36628767 |\n",
      "|       0       |   1954   |      0       |  98148  | 47.43658598 |\n",
      "|      500      |   1916   |      0       |  98125  |  47.7168015 |\n",
      "+---------------+----------+--------------+---------+-------------+\n",
      "+---------------+---------------+-----+\n",
      "|      long     | sqft_living15 | ... |\n",
      "+---------------+---------------+-----+\n",
      "| -122.22874498 |     1780.0    | ... |\n",
      "| -122.37541218 |     2140.0    | ... |\n",
      "| -122.21774909 |     1030.0    | ... |\n",
      "| -122.06971484 |     2580.0    | ... |\n",
      "|  -122.3752359 |     1570.0    | ... |\n",
      "| -122.18000831 |     2620.0    | ... |\n",
      "| -122.34720874 |     2410.0    | ... |\n",
      "| -122.11356981 |     2250.0    | ... |\n",
      "|  -122.3346675 |     1290.0    | ... |\n",
      "| -122.28694727 |     1510.0    | ... |\n",
      "+---------------+---------------+-----+\n",
      "[10 rows x 22 columns]\n",
      "\n"
     ]
    }
   ],
>>>>>>> 6225c47f5d62b41f3375d66ad3dfe6c33bbd4a03
   "source": [
    "(simple_feature_matrix, output) = get_numpy_data(train_data, simple_features, my_output)\n",
    "(simple_test_feature_matrix, test_output) = get_numpy_data(test_data, simple_features, my_output)"
   ]
  },
  {
   "cell_type": "markdown",
   "metadata": {},
   "source": [
    "Let's set the parameters for our optimization:"
   ]
  },
  {
   "cell_type": "code",
<<<<<<< HEAD
   "execution_count": null,
=======
   "execution_count": 12,
>>>>>>> 6225c47f5d62b41f3375d66ad3dfe6c33bbd4a03
   "metadata": {
    "collapsed": true
   },
   "outputs": [],
   "source": [
    "initial_weights = np.array([0., 0.])\n",
    "step_size = 1e-12\n",
    "max_iterations=1000"
   ]
  },
  {
   "cell_type": "markdown",
   "metadata": {},
   "source": [
    "First, let's consider no regularization.  Set the `l2_penalty` to `0.0` and run your ridge regression algorithm to learn the weights of your model.  Call your weights:\n",
    "\n",
    "`simple_weights_0_penalty`\n",
    "\n",
    "we'll use them later."
   ]
  },
  {
   "cell_type": "code",
<<<<<<< HEAD
   "execution_count": null,
   "metadata": {
    "collapsed": true
   },
   "outputs": [],
   "source": []
=======
   "execution_count": 17,
   "metadata": {
    "collapsed": false
   },
   "outputs": [],
   "source": [
    "l2_penalty = 0.\n",
    "simple_weights_0_penalty = ridge_regression_gradient_descent(simple_feature_matrix,\n",
    "                                                             output,\n",
    "                                                             initial_weights,\n",
    "                                                             step_size,\n",
    "                                                             l2_penalty,\n",
    "                                                             max_iterations)"
   ]
>>>>>>> 6225c47f5d62b41f3375d66ad3dfe6c33bbd4a03
  },
  {
   "cell_type": "markdown",
   "metadata": {},
   "source": [
    "Next, let's consider high regularization.  Set the `l2_penalty` to `1e11` and run your ridge regression algorithm to learn the weights of your model.  Call your weights:\n",
    "\n",
    "`simple_weights_high_penalty`\n",
    "\n",
    "we'll use them later."
   ]
  },
  {
   "cell_type": "code",
<<<<<<< HEAD
   "execution_count": null,
   "metadata": {
    "collapsed": true
   },
   "outputs": [],
   "source": []
=======
   "execution_count": 18,
   "metadata": {
    "collapsed": false
   },
   "outputs": [],
   "source": [
    "l2_penalty = 1e11\n",
    "simple_weights_high_penalty = ridge_regression_gradient_descent(simple_feature_matrix,\n",
    "                                                                output,\n",
    "                                                                initial_weights,\n",
    "                                                                step_size,\n",
    "                                                                l2_penalty,\n",
    "                                                                max_iterations)"
   ]
>>>>>>> 6225c47f5d62b41f3375d66ad3dfe6c33bbd4a03
  },
  {
   "cell_type": "markdown",
   "metadata": {},
   "source": [
    "This code will plot the two learned models.  (The blue line is for the model with no regularization and the red line is for the one with high regularization.)"
   ]
  },
  {
   "cell_type": "code",
<<<<<<< HEAD
   "execution_count": null,
   "metadata": {
    "collapsed": true
   },
   "outputs": [],
=======
   "execution_count": 19,
   "metadata": {
    "collapsed": false
   },
   "outputs": [
    {
     "data": {
      "text/plain": [
       "[<matplotlib.lines.Line2D at 0x7f32231cf0d0>,\n",
       " <matplotlib.lines.Line2D at 0x7f32231cf1d0>,\n",
       " <matplotlib.lines.Line2D at 0x7f32231cf350>,\n",
       " <matplotlib.lines.Line2D at 0x7f32231cff10>,\n",
       " <matplotlib.lines.Line2D at 0x7f32231db090>,\n",
       " <matplotlib.lines.Line2D at 0x7f32231dbbd0>]"
      ]
     },
     "execution_count": 19,
     "metadata": {},
     "output_type": "execute_result"
    },
    {
     "data": {
      "image/png": "iVBORw0KGgoAAAANSUhEUgAAAZwAAAEACAYAAACH5cABAAAABHNCSVQICAgIfAhkiAAAAAlwSFlz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\n",
      "text/plain": [
       "<matplotlib.figure.Figure at 0x7f32232efd10>"
      ]
     },
     "metadata": {},
     "output_type": "display_data"
    }
   ],
>>>>>>> 6225c47f5d62b41f3375d66ad3dfe6c33bbd4a03
   "source": [
    "import matplotlib.pyplot as plt\n",
    "%matplotlib inline\n",
    "plt.plot(simple_feature_matrix,output,'k.',\n",
    "         simple_feature_matrix,predict_output(simple_feature_matrix, simple_weights_0_penalty),'b-',\n",
    "        simple_feature_matrix,predict_output(simple_feature_matrix, simple_weights_high_penalty),'r-')"
   ]
  },
  {
   "cell_type": "markdown",
   "metadata": {},
   "source": [
    "Compute the RSS on the TEST data for the following three sets of weights:\n",
    "1. The initial weights (all zeros)\n",
    "2. The weights learned with no regularization\n",
    "3. The weights learned with high regularization\n",
    "\n",
    "Which weights perform best?"
   ]
  },
  {
   "cell_type": "code",
   "execution_count": null,
   "metadata": {
    "collapsed": true
   },
   "outputs": [],
   "source": []
  },
  {
   "cell_type": "code",
   "execution_count": null,
   "metadata": {
    "collapsed": true
   },
   "outputs": [],
   "source": []
  },
  {
   "cell_type": "code",
   "execution_count": null,
   "metadata": {
    "collapsed": true
   },
   "outputs": [],
   "source": []
  },
  {
   "cell_type": "markdown",
   "metadata": {
    "collapsed": false
   },
   "source": [
    "***QUIZ QUESTIONS***\n",
    "1. What is the value of the coefficient for `sqft_living` that you learned with no regularization, rounded to 1 decimal place?  What about the one with high regularization?\n",
    "2. Comparing the lines you fit with the with no regularization versus high regularization, which one is steeper?\n",
    "3. What are the RSS on the test data for each of the set of weights above (initial, no regularization, high regularization)? \n"
   ]
  },
  {
   "cell_type": "markdown",
   "metadata": {},
   "source": [
    "# Running a multiple regression with L2 penalty"
   ]
  },
  {
   "cell_type": "markdown",
   "metadata": {},
   "source": [
    "Let us now consider a model with 2 features: `['sqft_living', 'sqft_living15']`."
   ]
  },
  {
   "cell_type": "markdown",
   "metadata": {},
   "source": [
    "First, create Numpy versions of your training and test data with these two features. "
   ]
  },
  {
   "cell_type": "code",
<<<<<<< HEAD
   "execution_count": null,
   "metadata": {
    "collapsed": true
   },
   "outputs": [],
=======
   "execution_count": 20,
   "metadata": {
    "collapsed": false
   },
   "outputs": [
    {
     "name": "stdout",
     "output_type": "stream",
     "text": [
      "+------------+---------------------------+-----------+----------+-----------+\n",
      "|     id     |            date           |   price   | bedrooms | bathrooms |\n",
      "+------------+---------------------------+-----------+----------+-----------+\n",
      "| 7129300520 | 2014-10-13 00:00:00+00:00 |  221900.0 |   3.0    |    1.0    |\n",
      "| 6414100192 | 2014-12-09 00:00:00+00:00 |  538000.0 |   3.0    |    2.25   |\n",
      "| 5631500400 | 2015-02-25 00:00:00+00:00 |  180000.0 |   2.0    |    1.0    |\n",
      "| 2487200875 | 2014-12-09 00:00:00+00:00 |  604000.0 |   4.0    |    3.0    |\n",
      "| 1954400510 | 2015-02-18 00:00:00+00:00 |  510000.0 |   3.0    |    2.0    |\n",
      "| 7237550310 | 2014-05-12 00:00:00+00:00 | 1225000.0 |   4.0    |    4.5    |\n",
      "| 1321400060 | 2014-06-27 00:00:00+00:00 |  257500.0 |   3.0    |    2.25   |\n",
      "| 2008000270 | 2015-01-15 00:00:00+00:00 |  291850.0 |   3.0    |    1.5    |\n",
      "| 2414600126 | 2015-04-15 00:00:00+00:00 |  229500.0 |   3.0    |    1.0    |\n",
      "| 3793500160 | 2015-03-12 00:00:00+00:00 |  323000.0 |   3.0    |    2.5    |\n",
      "+------------+---------------------------+-----------+----------+-----------+\n",
      "+-------------+----------+--------+------------+------+-----------+-------+------------+\n",
      "| sqft_living | sqft_lot | floors | waterfront | view | condition | grade | sqft_above |\n",
      "+-------------+----------+--------+------------+------+-----------+-------+------------+\n",
      "|    1180.0   |   5650   |   1    |     0      |  0   |     3     |   7   |    1180    |\n",
      "|    2570.0   |   7242   |   2    |     0      |  0   |     3     |   7   |    2170    |\n",
      "|    770.0    |  10000   |   1    |     0      |  0   |     3     |   6   |    770     |\n",
      "|    1960.0   |   5000   |   1    |     0      |  0   |     5     |   7   |    1050    |\n",
      "|    1680.0   |   8080   |   1    |     0      |  0   |     3     |   8   |    1680    |\n",
      "|    5420.0   |  101930  |   1    |     0      |  0   |     3     |   11  |    3890    |\n",
      "|    1715.0   |   6819   |   2    |     0      |  0   |     3     |   7   |    1715    |\n",
      "|    1060.0   |   9711   |   1    |     0      |  0   |     3     |   7   |    1060    |\n",
      "|    1780.0   |   7470   |   1    |     0      |  0   |     3     |   7   |    1050    |\n",
      "|    1890.0   |   6560   |   2    |     0      |  0   |     3     |   7   |    1890    |\n",
      "+-------------+----------+--------+------------+------+-----------+-------+------------+\n",
      "+---------------+----------+--------------+---------+-------------+\n",
      "| sqft_basement | yr_built | yr_renovated | zipcode |     lat     |\n",
      "+---------------+----------+--------------+---------+-------------+\n",
      "|       0       |   1955   |      0       |  98178  | 47.51123398 |\n",
      "|      400      |   1951   |     1991     |  98125  | 47.72102274 |\n",
      "|       0       |   1933   |      0       |  98028  | 47.73792661 |\n",
      "|      910      |   1965   |      0       |  98136  |   47.52082  |\n",
      "|       0       |   1987   |      0       |  98074  | 47.61681228 |\n",
      "|      1530     |   2001   |      0       |  98053  | 47.65611835 |\n",
      "|       0       |   1995   |      0       |  98003  | 47.30972002 |\n",
      "|       0       |   1963   |      0       |  98198  | 47.40949984 |\n",
      "|      730      |   1960   |      0       |  98146  | 47.51229381 |\n",
      "|       0       |   2003   |      0       |  98038  | 47.36840673 |\n",
      "+---------------+----------+--------------+---------+-------------+\n",
      "+---------------+---------------+-----+\n",
      "|      long     | sqft_living15 | ... |\n",
      "+---------------+---------------+-----+\n",
      "| -122.25677536 |     1340.0    | ... |\n",
      "|  -122.3188624 |     1690.0    | ... |\n",
      "| -122.23319601 |     2720.0    | ... |\n",
      "| -122.39318505 |     1360.0    | ... |\n",
      "| -122.04490059 |     1800.0    | ... |\n",
      "| -122.00528655 |     4760.0    | ... |\n",
      "| -122.32704857 |     2238.0    | ... |\n",
      "| -122.31457273 |     1650.0    | ... |\n",
      "| -122.33659507 |     1780.0    | ... |\n",
      "|  -122.0308176 |     2390.0    | ... |\n",
      "+---------------+---------------+-----+\n",
      "[10 rows x 22 columns]\n",
      "\n",
      "+------------+---------------------------+----------+----------+-----------+\n",
      "|     id     |            date           |  price   | bedrooms | bathrooms |\n",
      "+------------+---------------------------+----------+----------+-----------+\n",
      "| 0114101516 | 2014-05-28 00:00:00+00:00 | 310000.0 |   3.0    |    1.0    |\n",
      "| 9297300055 | 2015-01-24 00:00:00+00:00 | 650000.0 |   4.0    |    3.0    |\n",
      "| 1202000200 | 2014-11-03 00:00:00+00:00 | 233000.0 |   3.0    |    2.0    |\n",
      "| 8562750320 | 2014-11-10 00:00:00+00:00 | 580500.0 |   3.0    |    2.5    |\n",
      "| 7589200193 | 2014-11-10 00:00:00+00:00 | 535000.0 |   3.0    |    1.0    |\n",
      "| 2078500320 | 2014-06-20 00:00:00+00:00 | 605000.0 |   4.0    |    2.5    |\n",
      "| 7766200013 | 2014-08-11 00:00:00+00:00 | 775000.0 |   4.0    |    2.25   |\n",
      "| 9478500640 | 2014-08-19 00:00:00+00:00 | 292500.0 |   4.0    |    2.5    |\n",
      "| 9558200045 | 2014-08-28 00:00:00+00:00 | 289000.0 |   3.0    |    1.75   |\n",
      "| 8820901275 | 2014-06-10 00:00:00+00:00 | 571000.0 |   4.0    |    2.0    |\n",
      "+------------+---------------------------+----------+----------+-----------+\n",
      "+-------------+----------+--------+------------+------+-----------+-------+------------+\n",
      "| sqft_living | sqft_lot | floors | waterfront | view | condition | grade | sqft_above |\n",
      "+-------------+----------+--------+------------+------+-----------+-------+------------+\n",
      "|    1430.0   |  19901   |  1.5   |     0      |  0   |     4     |   7   |    1430    |\n",
      "|    2950.0   |   5000   |   2    |     0      |  3   |     3     |   9   |    1980    |\n",
      "|    1710.0   |   4697   |  1.5   |     0      |  0   |     5     |   6   |    1710    |\n",
      "|    2320.0   |   3980   |   2    |     0      |  0   |     3     |   8   |    2320    |\n",
      "|    1090.0   |   3000   |  1.5   |     0      |  0   |     4     |   8   |    1090    |\n",
      "|    2620.0   |   7553   |   2    |     0      |  0   |     3     |   8   |    2620    |\n",
      "|    4220.0   |  24186   |   1    |     0      |  0   |     3     |   8   |    2600    |\n",
      "|    2250.0   |   4495   |   2    |     0      |  0   |     3     |   7   |    2250    |\n",
      "|    1260.0   |   8400   |   1    |     0      |  0   |     3     |   7   |    1260    |\n",
      "|    2750.0   |   7807   |  1.5   |     0      |  0   |     5     |   7   |    2250    |\n",
      "+-------------+----------+--------+------------+------+-----------+-------+------------+\n",
      "+---------------+----------+--------------+---------+-------------+\n",
      "| sqft_basement | yr_built | yr_renovated | zipcode |     lat     |\n",
      "+---------------+----------+--------------+---------+-------------+\n",
      "|       0       |   1927   |      0       |  98028  | 47.75584254 |\n",
      "|      970      |   1979   |      0       |  98126  | 47.57136955 |\n",
      "|       0       |   1941   |      0       |  98002  | 47.30482931 |\n",
      "|       0       |   2003   |      0       |  98027  |  47.5391103 |\n",
      "|       0       |   1929   |      0       |  98117  | 47.68889559 |\n",
      "|       0       |   1996   |      0       |  98056  | 47.53013988 |\n",
      "|      1620     |   1984   |      0       |  98166  | 47.44504345 |\n",
      "|       0       |   2008   |      0       |  98042  | 47.36628767 |\n",
      "|       0       |   1954   |      0       |  98148  | 47.43658598 |\n",
      "|      500      |   1916   |      0       |  98125  |  47.7168015 |\n",
      "+---------------+----------+--------------+---------+-------------+\n",
      "+---------------+---------------+-----+\n",
      "|      long     | sqft_living15 | ... |\n",
      "+---------------+---------------+-----+\n",
      "| -122.22874498 |     1780.0    | ... |\n",
      "| -122.37541218 |     2140.0    | ... |\n",
      "| -122.21774909 |     1030.0    | ... |\n",
      "| -122.06971484 |     2580.0    | ... |\n",
      "|  -122.3752359 |     1570.0    | ... |\n",
      "| -122.18000831 |     2620.0    | ... |\n",
      "| -122.34720874 |     2410.0    | ... |\n",
      "| -122.11356981 |     2250.0    | ... |\n",
      "|  -122.3346675 |     1290.0    | ... |\n",
      "| -122.28694727 |     1510.0    | ... |\n",
      "+---------------+---------------+-----+\n",
      "[10 rows x 22 columns]\n",
      "\n"
     ]
    }
   ],
>>>>>>> 6225c47f5d62b41f3375d66ad3dfe6c33bbd4a03
   "source": [
    "model_features = ['sqft_living', 'sqft_living15'] # sqft_living15 is the average squarefeet for the nearest 15 neighbors. \n",
    "my_output = 'price'\n",
    "(feature_matrix, output) = get_numpy_data(train_data, model_features, my_output)\n",
    "(test_feature_matrix, test_output) = get_numpy_data(test_data, model_features, my_output)"
   ]
  },
  {
   "cell_type": "markdown",
   "metadata": {},
   "source": [
    "We need to re-inialize the weights, since we have one extra parameter. Let us also set the step size and maximum number of iterations."
   ]
  },
  {
   "cell_type": "code",
<<<<<<< HEAD
   "execution_count": null,
=======
   "execution_count": 21,
>>>>>>> 6225c47f5d62b41f3375d66ad3dfe6c33bbd4a03
   "metadata": {
    "collapsed": true
   },
   "outputs": [],
   "source": [
    "initial_weights = np.array([0.0,0.0,0.0])\n",
    "step_size = 1e-12\n",
    "max_iterations = 1000"
   ]
  },
  {
   "cell_type": "markdown",
   "metadata": {},
   "source": [
    "First, let's consider no regularization.  Set the `l2_penalty` to `0.0` and run your ridge regression algorithm to learn the weights of your model.  Call your weights:\n",
    "\n",
    "`multiple_weights_0_penalty`"
   ]
  },
  {
   "cell_type": "code",
   "execution_count": null,
   "metadata": {
    "collapsed": true
   },
   "outputs": [],
   "source": []
  },
  {
   "cell_type": "markdown",
   "metadata": {},
   "source": [
    "Next, let's consider high regularization.  Set the `l2_penalty` to `1e11` and run your ridge regression algorithm to learn the weights of your model.  Call your weights:\n",
    "\n",
    "`multiple_weights_high_penalty`"
   ]
  },
  {
   "cell_type": "code",
   "execution_count": null,
   "metadata": {
    "collapsed": true
   },
   "outputs": [],
   "source": []
  },
  {
   "cell_type": "markdown",
   "metadata": {},
   "source": [
    "Compute the RSS on the TEST data for the following three sets of weights:\n",
    "1. The initial weights (all zeros)\n",
    "2. The weights learned with no regularization\n",
    "3. The weights learned with high regularization\n",
    "\n",
    "Which weights perform best?"
   ]
  },
  {
   "cell_type": "code",
   "execution_count": null,
   "metadata": {
    "collapsed": true
   },
   "outputs": [],
   "source": []
  },
  {
   "cell_type": "code",
   "execution_count": null,
   "metadata": {
    "collapsed": true
   },
   "outputs": [],
   "source": []
  },
  {
   "cell_type": "code",
   "execution_count": null,
   "metadata": {
    "collapsed": true
   },
   "outputs": [],
   "source": []
  },
  {
   "cell_type": "markdown",
   "metadata": {},
   "source": [
    "Predict the house price for the 1st house in the test set using the no regularization and high regularization models. (Remember that python starts indexing from 0.) How far is the prediction from the actual price?  Which weights perform best for the 1st house?"
   ]
  },
  {
   "cell_type": "code",
   "execution_count": null,
   "metadata": {
    "collapsed": true
   },
   "outputs": [],
   "source": []
  },
  {
   "cell_type": "code",
   "execution_count": null,
   "metadata": {
    "collapsed": false
   },
   "outputs": [],
   "source": []
  },
  {
   "cell_type": "markdown",
   "metadata": {
    "collapsed": true
   },
   "source": [
    "***QUIZ QUESTIONS***\n",
    "1. What is the value of the coefficient for `sqft_living` that you learned with no regularization, rounded to 1 decimal place?  What about the one with high regularization?\n",
    "2. What are the RSS on the test data for each of the set of weights above (initial, no regularization, high regularization)? \n",
    "3. We make prediction for the first house in the test set using two sets of weights (no regularization vs high regularization). Which weights make better prediction <u>for that particular house</u>?"
   ]
  },
  {
   "cell_type": "code",
   "execution_count": null,
   "metadata": {
    "collapsed": true
   },
   "outputs": [],
   "source": []
  }
 ],
 "metadata": {
  "kernelspec": {
   "display_name": "Python 2",
   "language": "python",
   "name": "python2"
  },
  "language_info": {
   "codemirror_mode": {
    "name": "ipython",
    "version": 2
   },
   "file_extension": ".py",
   "mimetype": "text/x-python",
   "name": "python",
   "nbconvert_exporter": "python",
   "pygments_lexer": "ipython2",
<<<<<<< HEAD
   "version": "2.7.10"
=======
   "version": "2.7.9"
>>>>>>> 6225c47f5d62b41f3375d66ad3dfe6c33bbd4a03
  }
 },
 "nbformat": 4,
 "nbformat_minor": 0
}
